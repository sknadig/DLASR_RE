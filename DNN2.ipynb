{
 "cells": [
  {
   "cell_type": "code",
   "execution_count": 1,
   "metadata": {
    "colab": {
     "autoexec": {
      "startup": false,
      "wait_interval": 0
     }
    },
    "colab_type": "code",
    "id": "FOfH1RnMqgif"
   },
   "outputs": [
    {
     "name": "stderr",
     "output_type": "stream",
     "text": [
      "/home/neo/.conda/envs/ml/lib/python3.6/site-packages/sklearn/cross_validation.py:41: DeprecationWarning: This module was deprecated in version 0.18 in favor of the model_selection module into which all the refactored classes and functions are moved. Also note that the interface of the new CV iterators are different from that of this module. This module will be removed in 0.20.\n",
      "  \"This module will be removed in 0.20.\", DeprecationWarning)\n"
     ]
    }
   ],
   "source": [
    "import tensorflow as tf\n",
    "import pandas as pd\n",
    "import numpy as np\n",
    "import random\n",
    "from sklearn.cross_validation import train_test_split"
   ]
  },
  {
   "cell_type": "code",
   "execution_count": 2,
   "metadata": {
    "colab": {
     "autoexec": {
      "startup": false,
      "wait_interval": 0
     }
    },
    "colab_type": "code",
    "collapsed": true,
    "id": "Zt6VEwYfzYbB"
   },
   "outputs": [],
   "source": [
    "# # Install the PyDrive wrapper & import libraries.\n",
    "# # This only needs to be done once per notebook.\n",
    "# !pip install -U -q PyDrive\n",
    "# from pydrive.auth import GoogleAuth\n",
    "# from pydrive.drive import GoogleDrive\n",
    "# from google.colab import auth\n",
    "# from oauth2client.client import GoogleCredentials\n",
    "\n",
    "# # Authenticate and create the PyDrive client.\n",
    "# # This only needs to be done once per notebook.\n",
    "# auth.authenticate_user()\n",
    "# gauth = GoogleAuth()\n",
    "# gauth.credentials = GoogleCredentials.get_application_default()\n",
    "# drive = GoogleDrive(gauth)"
   ]
  },
  {
   "cell_type": "code",
   "execution_count": 3,
   "metadata": {
    "colab": {
     "autoexec": {
      "startup": false,
      "wait_interval": 0
     },
     "base_uri": "https://localhost:8080/",
     "height": 255,
     "output_extras": [
      {
       "item_id": 1
      }
     ]
    },
    "colab_type": "code",
    "collapsed": true,
    "executionInfo": {
     "elapsed": 1090,
     "status": "ok",
     "timestamp": 1516791923139,
     "user": {
      "displayName": "SNADIG CP",
      "photoUrl": "https://lh3.googleusercontent.com/a/default-user=s128",
      "userId": "111186448378047970223"
     },
     "user_tz": -330
    },
    "id": "zmZ2iOtTzgWU",
    "outputId": "4276c321-c97a-4760-b51c-20e8da974f74"
   },
   "outputs": [],
   "source": [
    "# List .txt files in the root.\n",
    "#\n",
    "# Search query reference:\n",
    "# https://developers.google.com/drive/v2/web/search-parameters\n",
    "# listed = drive.ListFile().GetList()\n",
    "# for file in listed:\n",
    "#   print('title {}, id {}'.format(file['title'], file['id']))"
   ]
  },
  {
   "cell_type": "code",
   "execution_count": 4,
   "metadata": {
    "colab": {
     "autoexec": {
      "startup": false,
      "wait_interval": 0
     },
     "base_uri": "https://localhost:8080/",
     "height": 187,
     "output_extras": [
      {
       "item_id": 1
      }
     ]
    },
    "colab_type": "code",
    "collapsed": true,
    "executionInfo": {
     "elapsed": 7008,
     "status": "ok",
     "timestamp": 1516791930229,
     "user": {
      "displayName": "SNADIG CP",
      "photoUrl": "https://lh3.googleusercontent.com/a/default-user=s128",
      "userId": "111186448378047970223"
     },
     "user_tz": -330
    },
    "id": "OnZG3JvtzgiO",
    "outputId": "9d9e5a3f-0368-4ffd-950f-d9697e90a04b"
   },
   "outputs": [],
   "source": [
    "# selection = \"mfcc_alignments.pkl\"\n",
    "# for file in listed:\n",
    "#   if file['title'] == selection:\n",
    "#     file.GetContentFile(selection)\n",
    "# import os\n",
    "# os.listdir(\".\")"
   ]
  },
  {
   "cell_type": "code",
   "execution_count": 5,
   "metadata": {
    "colab": {
     "autoexec": {
      "startup": false,
      "wait_interval": 0
     }
    },
    "colab_type": "code",
    "collapsed": true,
    "id": "ExKRf1_nqgio"
   },
   "outputs": [],
   "source": [
    "data=pd.read_pickle(\"train_with_mapped_labels.pkl\")"
   ]
  },
  {
   "cell_type": "code",
   "execution_count": 6,
   "metadata": {
    "colab": {
     "autoexec": {
      "startup": false,
      "wait_interval": 0
     }
    },
    "colab_type": "code",
    "collapsed": true,
    "id": "iyZejWmcqgiu"
   },
   "outputs": [],
   "source": [
    "X_input = data[\"feature_vector\"]\n",
    "Y_input = data[\"mapped_labels\"]"
   ]
  },
  {
   "cell_type": "code",
   "execution_count": 7,
   "metadata": {
    "colab": {
     "autoexec": {
      "startup": false,
      "wait_interval": 0
     }
    },
    "colab_type": "code",
    "collapsed": true,
    "id": "D4eibtkTqgiz"
   },
   "outputs": [],
   "source": [
    "X1 = X_input.tolist()\n",
    "# Y1 = pd.get_dummies(Y_input.tolist()).values\n",
    "Y1 = Y_input.tolist()"
   ]
  },
  {
   "cell_type": "code",
   "execution_count": 8,
   "metadata": {
    "colab": {
     "autoexec": {
      "startup": false,
      "wait_interval": 0
     }
    },
    "colab_type": "code",
    "collapsed": true,
    "id": "ww-NP6In_wBW"
   },
   "outputs": [],
   "source": [
    "# Y1 = [ele-1 for ele in Y1]"
   ]
  },
  {
   "cell_type": "code",
   "execution_count": 9,
   "metadata": {
    "colab": {
     "autoexec": {
      "startup": false,
      "wait_interval": 0
     }
    },
    "colab_type": "code",
    "collapsed": true,
    "id": "p4EMEPZrqgi3"
   },
   "outputs": [],
   "source": [
    "X1 = np.asarray([np.asarray(ele, np.float32) for ele in X1])\n",
    "Y1 = np.asarray([np.asarray(ele, np.int32) for ele in Y1])"
   ]
  },
  {
   "cell_type": "code",
   "execution_count": 10,
   "metadata": {
    "colab": {
     "autoexec": {
      "startup": false,
      "wait_interval": 0
     }
    },
    "colab_type": "code",
    "collapsed": true,
    "id": "nUYQPShbqgi7"
   },
   "outputs": [],
   "source": [
    "X1 = X1 / X1.max(axis=0)"
   ]
  },
  {
   "cell_type": "code",
   "execution_count": 11,
   "metadata": {
    "colab": {
     "autoexec": {
      "startup": false,
      "wait_interval": 0
     }
    },
    "colab_type": "code",
    "collapsed": true,
    "id": "V-45xACE1Vtj"
   },
   "outputs": [],
   "source": [
    "select_indices = random.sample(range(0,len(X1)), len(X1))\n",
    "X1 = X1[select_indices]\n",
    "Y1 = Y1[select_indices]"
   ]
  },
  {
   "cell_type": "code",
   "execution_count": 12,
   "metadata": {
    "colab": {
     "autoexec": {
      "startup": false,
      "wait_interval": 0
     }
    },
    "colab_type": "code",
    "collapsed": true,
    "id": "XPeqPhduwa09"
   },
   "outputs": [],
   "source": [
    "X_train, X_test, y_train, y_test = train_test_split(X1, Y1, test_size=0.33, random_state=0)"
   ]
  },
  {
   "cell_type": "code",
   "execution_count": 13,
   "metadata": {
    "colab": {
     "autoexec": {
      "startup": false,
      "wait_interval": 0
     }
    },
    "colab_type": "code",
    "collapsed": true,
    "id": "A_dXovrAqgjA"
   },
   "outputs": [],
   "source": [
    "# Parameters\n",
    "learning_rate = 0.001\n",
    "training_epochs = 25\n",
    "batch_size = 1000\n",
    "display_step = 1"
   ]
  },
  {
   "cell_type": "code",
   "execution_count": 14,
   "metadata": {
    "colab": {
     "autoexec": {
      "startup": false,
      "wait_interval": 0
     }
    },
    "colab_type": "code",
    "collapsed": true,
    "id": "jKu_5wWvqgjE"
   },
   "outputs": [],
   "source": [
    "# tf Graph input\n",
    "X = tf.placeholder(\"float\", [None, 40])\n",
    "Y = tf.placeholder(\"float\", [None, 48])"
   ]
  },
  {
   "cell_type": "code",
   "execution_count": 15,
   "metadata": {
    "colab": {
     "autoexec": {
      "startup": false,
      "wait_interval": 0
     }
    },
    "colab_type": "code",
    "collapsed": true,
    "id": "-g3LSXBa7s4J"
   },
   "outputs": [],
   "source": [
    "feature_columns = [tf.feature_column.numeric_column(\"x\", shape=[40])]"
   ]
  },
  {
   "cell_type": "code",
   "execution_count": 16,
   "metadata": {
    "colab": {
     "autoexec": {
      "startup": false,
      "wait_interval": 0
     },
     "base_uri": "https://localhost:8080/",
     "height": 88,
     "output_extras": [
      {
       "item_id": 1
      }
     ]
    },
    "colab_type": "code",
    "executionInfo": {
     "elapsed": 1216,
     "status": "ok",
     "timestamp": 1516791964502,
     "user": {
      "displayName": "SNADIG CP",
      "photoUrl": "https://lh3.googleusercontent.com/a/default-user=s128",
      "userId": "111186448378047970223"
     },
     "user_tz": -330
    },
    "id": "5rN2bX2Z7awp",
    "outputId": "ba18f2d6-87ff-44de-c269-806f8b90898d"
   },
   "outputs": [
    {
     "name": "stdout",
     "output_type": "stream",
     "text": [
      "INFO:tensorflow:Using default config.\n",
      "WARNING:tensorflow:Using temporary folder as model directory: /tmp/tmp2percy6l\n",
      "INFO:tensorflow:Using config: {'_model_dir': '/tmp/tmp2percy6l', '_tf_random_seed': 1, '_save_summary_steps': 100, '_save_checkpoints_secs': 600, '_save_checkpoints_steps': None, '_session_config': None, '_keep_checkpoint_max': 5, '_keep_checkpoint_every_n_hours': 10000, '_log_step_count_steps': 100}\n"
     ]
    }
   ],
   "source": [
    "classifier = tf.estimator.DNNClassifier(feature_columns=feature_columns,\n",
    "                                   hidden_units=[40, 1024, 1024,1024,1024, 1024, 1024, 48],\n",
    "                                   activation_fn=tf.nn.relu,\n",
    "                                   n_classes=1944,\n",
    "                                   optimizer=tf.train.AdamOptimizer(learning_rate=0.001,\n",
    "                                   ))"
   ]
  },
  {
   "cell_type": "code",
   "execution_count": 17,
   "metadata": {
    "colab": {
     "autoexec": {
      "startup": false,
      "wait_interval": 0
     }
    },
    "colab_type": "code",
    "collapsed": true,
    "id": "9-_3zpyD7mZ6"
   },
   "outputs": [],
   "source": [
    "# Define the training inputs\n",
    "train_input_fn = tf.estimator.inputs.numpy_input_fn(\n",
    "    x={\"x\": np.array(X_train)},\n",
    "    y=np.array(y_train),\n",
    "    num_epochs=None,\n",
    "    shuffle=True)"
   ]
  },
  {
   "cell_type": "code",
   "execution_count": 18,
   "metadata": {
    "colab": {
     "autoexec": {
      "startup": false,
      "wait_interval": 0
     }
    },
    "colab_type": "code",
    "collapsed": true,
    "id": "Lj_l8ixP8Fp-"
   },
   "outputs": [],
   "source": [
    "test_input_fn = tf.estimator.inputs.numpy_input_fn(\n",
    "      x={\"x\": np.array(X_test)},\n",
    "      y=np.array(y_test),\n",
    "      num_epochs=1,\n",
    "      shuffle=False)"
   ]
  },
  {
   "cell_type": "code",
   "execution_count": 19,
   "metadata": {
    "colab": {
     "autoexec": {
      "startup": false,
      "wait_interval": 0
     },
     "base_uri": "https://localhost:8080/",
     "height": 6885,
     "output_extras": [
      {
       "item_id": 55
      },
      {
       "item_id": 113
      },
      {
       "item_id": 173
      },
      {
       "item_id": 227
      },
      {
       "item_id": 283
      },
      {
       "item_id": 332
      },
      {
       "item_id": 357
      },
      {
       "item_id": 358
      }
     ]
    },
    "colab_type": "code",
    "executionInfo": {
     "elapsed": 211593,
     "status": "ok",
     "timestamp": 1516792178746,
     "user": {
      "displayName": "SNADIG CP",
      "photoUrl": "https://lh3.googleusercontent.com/a/default-user=s128",
      "userId": "111186448378047970223"
     },
     "user_tz": -330
    },
    "id": "x8WE86zD8NPj",
    "outputId": "f77483fe-ec08-44b3-d932-097c724ec1ee"
   },
   "outputs": [
    {
     "name": "stdout",
     "output_type": "stream",
     "text": [
      "INFO:tensorflow:Create CheckpointSaverHook.\n",
      "INFO:tensorflow:Saving checkpoints for 1 into /tmp/tmp2percy6l/model.ckpt.\n",
      "INFO:tensorflow:loss = 969.305, step = 1\n",
      "INFO:tensorflow:global_step/sec: 114.53\n",
      "INFO:tensorflow:loss = 911.99, step = 101 (0.874 sec)\n",
      "INFO:tensorflow:global_step/sec: 108.903\n",
      "INFO:tensorflow:loss = 901.035, step = 201 (0.918 sec)\n",
      "INFO:tensorflow:global_step/sec: 120.601\n",
      "INFO:tensorflow:loss = 882.404, step = 301 (0.829 sec)\n",
      "INFO:tensorflow:global_step/sec: 120.815\n",
      "INFO:tensorflow:loss = 895.795, step = 401 (0.828 sec)\n",
      "INFO:tensorflow:global_step/sec: 119.224\n",
      "INFO:tensorflow:loss = 906.924, step = 501 (0.839 sec)\n",
      "INFO:tensorflow:global_step/sec: 113.982\n",
      "INFO:tensorflow:loss = 914.191, step = 601 (0.877 sec)\n",
      "INFO:tensorflow:global_step/sec: 113.36\n",
      "INFO:tensorflow:loss = 895.976, step = 701 (0.882 sec)\n",
      "INFO:tensorflow:global_step/sec: 113.028\n",
      "INFO:tensorflow:loss = 892.356, step = 801 (0.885 sec)\n",
      "INFO:tensorflow:global_step/sec: 118.46\n",
      "INFO:tensorflow:loss = 883.063, step = 901 (0.844 sec)\n",
      "INFO:tensorflow:global_step/sec: 116.355\n",
      "INFO:tensorflow:loss = 904.558, step = 1001 (0.859 sec)\n",
      "INFO:tensorflow:global_step/sec: 118.072\n",
      "INFO:tensorflow:loss = 885.463, step = 1101 (0.847 sec)\n",
      "INFO:tensorflow:global_step/sec: 95.7834\n",
      "INFO:tensorflow:loss = 922.221, step = 1201 (1.044 sec)\n",
      "INFO:tensorflow:global_step/sec: 104.876\n",
      "INFO:tensorflow:loss = 887.95, step = 1301 (0.954 sec)\n",
      "INFO:tensorflow:global_step/sec: 113.196\n",
      "INFO:tensorflow:loss = 909.576, step = 1401 (0.883 sec)\n",
      "INFO:tensorflow:global_step/sec: 117.625\n",
      "INFO:tensorflow:loss = 879.795, step = 1501 (0.850 sec)\n",
      "INFO:tensorflow:global_step/sec: 116.41\n",
      "INFO:tensorflow:loss = 909.228, step = 1601 (0.859 sec)\n",
      "INFO:tensorflow:global_step/sec: 118.031\n",
      "INFO:tensorflow:loss = 902.456, step = 1701 (0.847 sec)\n",
      "INFO:tensorflow:global_step/sec: 113.78\n",
      "INFO:tensorflow:loss = 908.664, step = 1801 (0.879 sec)\n",
      "INFO:tensorflow:global_step/sec: 116.866\n",
      "INFO:tensorflow:loss = 924.034, step = 1901 (0.855 sec)\n",
      "INFO:tensorflow:global_step/sec: 116.464\n",
      "INFO:tensorflow:loss = 919.344, step = 2001 (0.859 sec)\n",
      "INFO:tensorflow:global_step/sec: 110.728\n",
      "INFO:tensorflow:loss = 894.653, step = 2101 (0.903 sec)\n",
      "INFO:tensorflow:global_step/sec: 115.222\n",
      "INFO:tensorflow:loss = 904.953, step = 2201 (0.868 sec)\n",
      "INFO:tensorflow:global_step/sec: 117.229\n",
      "INFO:tensorflow:loss = 892.907, step = 2301 (0.853 sec)\n",
      "INFO:tensorflow:global_step/sec: 115.587\n",
      "INFO:tensorflow:loss = 900.434, step = 2401 (0.865 sec)\n",
      "INFO:tensorflow:global_step/sec: 119.704\n",
      "INFO:tensorflow:loss = 915.595, step = 2501 (0.835 sec)\n",
      "INFO:tensorflow:global_step/sec: 115.752\n",
      "INFO:tensorflow:loss = 895.619, step = 2601 (0.864 sec)\n",
      "INFO:tensorflow:global_step/sec: 119.422\n",
      "INFO:tensorflow:loss = 884.528, step = 2701 (0.837 sec)\n",
      "INFO:tensorflow:global_step/sec: 111.565\n",
      "INFO:tensorflow:loss = 913.891, step = 2801 (0.896 sec)\n",
      "INFO:tensorflow:global_step/sec: 115.115\n",
      "INFO:tensorflow:loss = 864.005, step = 2901 (0.869 sec)\n",
      "INFO:tensorflow:global_step/sec: 115.08\n",
      "INFO:tensorflow:loss = 902.699, step = 3001 (0.869 sec)\n",
      "INFO:tensorflow:global_step/sec: 116.963\n",
      "INFO:tensorflow:loss = 878.749, step = 3101 (0.855 sec)\n",
      "INFO:tensorflow:global_step/sec: 119.247\n",
      "INFO:tensorflow:loss = 916.424, step = 3201 (0.839 sec)\n",
      "INFO:tensorflow:global_step/sec: 112.96\n",
      "INFO:tensorflow:loss = 931.777, step = 3301 (0.885 sec)\n",
      "INFO:tensorflow:global_step/sec: 109.384\n",
      "INFO:tensorflow:loss = 866.392, step = 3401 (0.914 sec)\n",
      "INFO:tensorflow:global_step/sec: 109.488\n",
      "INFO:tensorflow:loss = 911.871, step = 3501 (0.913 sec)\n",
      "INFO:tensorflow:global_step/sec: 116.679\n",
      "INFO:tensorflow:loss = 912.298, step = 3601 (0.857 sec)\n",
      "INFO:tensorflow:global_step/sec: 110.776\n",
      "INFO:tensorflow:loss = 871.887, step = 3701 (0.903 sec)\n",
      "INFO:tensorflow:global_step/sec: 113.052\n",
      "INFO:tensorflow:loss = 858.11, step = 3801 (0.884 sec)\n",
      "INFO:tensorflow:global_step/sec: 113.256\n",
      "INFO:tensorflow:loss = 875.572, step = 3901 (0.883 sec)\n",
      "INFO:tensorflow:global_step/sec: 111.735\n",
      "INFO:tensorflow:loss = 881.383, step = 4001 (0.895 sec)\n",
      "INFO:tensorflow:global_step/sec: 109.275\n",
      "INFO:tensorflow:loss = 917.109, step = 4101 (0.916 sec)\n",
      "INFO:tensorflow:global_step/sec: 116.027\n",
      "INFO:tensorflow:loss = 877.32, step = 4201 (0.861 sec)\n",
      "INFO:tensorflow:global_step/sec: 115.055\n",
      "INFO:tensorflow:loss = 893.378, step = 4301 (0.870 sec)\n",
      "INFO:tensorflow:global_step/sec: 103.027\n",
      "INFO:tensorflow:loss = 900.147, step = 4401 (0.970 sec)\n",
      "INFO:tensorflow:global_step/sec: 110.579\n",
      "INFO:tensorflow:loss = 904.451, step = 4501 (0.904 sec)\n",
      "INFO:tensorflow:global_step/sec: 119.213\n",
      "INFO:tensorflow:loss = 899.272, step = 4601 (0.839 sec)\n",
      "INFO:tensorflow:global_step/sec: 116.063\n",
      "INFO:tensorflow:loss = 895.746, step = 4701 (0.862 sec)\n",
      "INFO:tensorflow:global_step/sec: 117.553\n",
      "INFO:tensorflow:loss = 897.794, step = 4801 (0.850 sec)\n",
      "INFO:tensorflow:global_step/sec: 120.924\n",
      "INFO:tensorflow:loss = 894.303, step = 4901 (0.827 sec)\n",
      "INFO:tensorflow:global_step/sec: 119.721\n",
      "INFO:tensorflow:loss = 887.545, step = 5001 (0.835 sec)\n",
      "INFO:tensorflow:global_step/sec: 118.885\n",
      "INFO:tensorflow:loss = 877.072, step = 5101 (0.841 sec)\n",
      "INFO:tensorflow:global_step/sec: 108.244\n",
      "INFO:tensorflow:loss = 903.536, step = 5201 (0.924 sec)\n",
      "INFO:tensorflow:global_step/sec: 118.575\n",
      "INFO:tensorflow:loss = 899.471, step = 5301 (0.843 sec)\n",
      "INFO:tensorflow:global_step/sec: 119.838\n",
      "INFO:tensorflow:loss = 913.179, step = 5401 (0.835 sec)\n",
      "INFO:tensorflow:global_step/sec: 118.436\n",
      "INFO:tensorflow:loss = 892.323, step = 5501 (0.844 sec)\n",
      "INFO:tensorflow:global_step/sec: 118.406\n",
      "INFO:tensorflow:loss = 878.1, step = 5601 (0.844 sec)\n",
      "INFO:tensorflow:global_step/sec: 112.111\n",
      "INFO:tensorflow:loss = 908.972, step = 5701 (0.893 sec)\n",
      "INFO:tensorflow:global_step/sec: 112.8\n",
      "INFO:tensorflow:loss = 876.256, step = 5801 (0.886 sec)\n",
      "INFO:tensorflow:global_step/sec: 114.578\n",
      "INFO:tensorflow:loss = 879.977, step = 5901 (0.873 sec)\n",
      "INFO:tensorflow:global_step/sec: 115.206\n",
      "INFO:tensorflow:loss = 878.032, step = 6001 (0.868 sec)\n",
      "INFO:tensorflow:global_step/sec: 112.344\n",
      "INFO:tensorflow:loss = 904.661, step = 6101 (0.890 sec)\n",
      "INFO:tensorflow:global_step/sec: 117.659\n",
      "INFO:tensorflow:loss = 916.966, step = 6201 (0.850 sec)\n",
      "INFO:tensorflow:global_step/sec: 120.273\n",
      "INFO:tensorflow:loss = 899.227, step = 6301 (0.832 sec)\n",
      "INFO:tensorflow:global_step/sec: 119.173\n",
      "INFO:tensorflow:loss = 862.747, step = 6401 (0.839 sec)\n",
      "INFO:tensorflow:global_step/sec: 113.026\n",
      "INFO:tensorflow:loss = 869.346, step = 6501 (0.885 sec)\n",
      "INFO:tensorflow:global_step/sec: 108.633\n",
      "INFO:tensorflow:loss = 926.445, step = 6601 (0.921 sec)\n",
      "INFO:tensorflow:global_step/sec: 114.973\n",
      "INFO:tensorflow:loss = 924.402, step = 6701 (0.870 sec)\n",
      "INFO:tensorflow:global_step/sec: 110.892\n",
      "INFO:tensorflow:loss = 892.598, step = 6801 (0.902 sec)\n",
      "INFO:tensorflow:global_step/sec: 113.557\n",
      "INFO:tensorflow:loss = 892.137, step = 6901 (0.881 sec)\n",
      "INFO:tensorflow:global_step/sec: 114.952\n",
      "INFO:tensorflow:loss = 871.984, step = 7001 (0.870 sec)\n",
      "INFO:tensorflow:global_step/sec: 115.004\n",
      "INFO:tensorflow:loss = 897.297, step = 7101 (0.869 sec)\n",
      "INFO:tensorflow:global_step/sec: 114.947\n",
      "INFO:tensorflow:loss = 909.228, step = 7201 (0.870 sec)\n",
      "INFO:tensorflow:global_step/sec: 114.898\n",
      "INFO:tensorflow:loss = 907.845, step = 7301 (0.870 sec)\n",
      "INFO:tensorflow:global_step/sec: 115.123\n",
      "INFO:tensorflow:loss = 926.26, step = 7401 (0.869 sec)\n",
      "INFO:tensorflow:global_step/sec: 110.62\n",
      "INFO:tensorflow:loss = 882.149, step = 7501 (0.904 sec)\n",
      "INFO:tensorflow:global_step/sec: 111.732\n",
      "INFO:tensorflow:loss = 904.834, step = 7601 (0.895 sec)\n",
      "INFO:tensorflow:global_step/sec: 113.157\n",
      "INFO:tensorflow:loss = 871.305, step = 7701 (0.884 sec)\n",
      "INFO:tensorflow:global_step/sec: 113.081\n",
      "INFO:tensorflow:loss = 888.853, step = 7801 (0.885 sec)\n",
      "INFO:tensorflow:global_step/sec: 108.749\n",
      "INFO:tensorflow:loss = 879.792, step = 7901 (0.919 sec)\n",
      "INFO:tensorflow:global_step/sec: 113.564\n",
      "INFO:tensorflow:loss = 911.288, step = 8001 (0.880 sec)\n",
      "INFO:tensorflow:global_step/sec: 106.767\n",
      "INFO:tensorflow:loss = 890.839, step = 8101 (0.937 sec)\n",
      "INFO:tensorflow:global_step/sec: 107.207\n",
      "INFO:tensorflow:loss = 892.869, step = 8201 (0.933 sec)\n",
      "INFO:tensorflow:global_step/sec: 106.686\n",
      "INFO:tensorflow:loss = 888.64, step = 8301 (0.938 sec)\n",
      "INFO:tensorflow:global_step/sec: 113.166\n"
     ]
    },
    {
     "name": "stdout",
     "output_type": "stream",
     "text": [
      "INFO:tensorflow:loss = 864.593, step = 8401 (0.883 sec)\n",
      "INFO:tensorflow:global_step/sec: 116.8\n",
      "INFO:tensorflow:loss = 897.442, step = 8501 (0.856 sec)\n",
      "INFO:tensorflow:global_step/sec: 121.357\n",
      "INFO:tensorflow:loss = 913.96, step = 8601 (0.824 sec)\n",
      "INFO:tensorflow:global_step/sec: 118.662\n",
      "INFO:tensorflow:loss = 903.852, step = 8701 (0.843 sec)\n",
      "INFO:tensorflow:global_step/sec: 109.162\n",
      "INFO:tensorflow:loss = 895.974, step = 8801 (0.916 sec)\n",
      "INFO:tensorflow:global_step/sec: 116.179\n",
      "INFO:tensorflow:loss = 937.038, step = 8901 (0.861 sec)\n",
      "INFO:tensorflow:global_step/sec: 117.834\n",
      "INFO:tensorflow:loss = 911.329, step = 9001 (0.849 sec)\n",
      "INFO:tensorflow:global_step/sec: 111.789\n",
      "INFO:tensorflow:loss = 923.115, step = 9101 (0.895 sec)\n",
      "INFO:tensorflow:global_step/sec: 110.443\n",
      "INFO:tensorflow:loss = 918.359, step = 9201 (0.905 sec)\n",
      "INFO:tensorflow:global_step/sec: 111.986\n",
      "INFO:tensorflow:loss = 891.961, step = 9301 (0.894 sec)\n",
      "INFO:tensorflow:global_step/sec: 113.627\n",
      "INFO:tensorflow:loss = 876.163, step = 9401 (0.880 sec)\n",
      "INFO:tensorflow:global_step/sec: 100.745\n",
      "INFO:tensorflow:loss = 878.503, step = 9501 (0.993 sec)\n",
      "INFO:tensorflow:global_step/sec: 114.144\n",
      "INFO:tensorflow:loss = 882.914, step = 9601 (0.876 sec)\n",
      "INFO:tensorflow:global_step/sec: 108.084\n",
      "INFO:tensorflow:loss = 902.152, step = 9701 (0.925 sec)\n",
      "INFO:tensorflow:global_step/sec: 110.37\n",
      "INFO:tensorflow:loss = 858.217, step = 9801 (0.906 sec)\n",
      "INFO:tensorflow:global_step/sec: 113.395\n",
      "INFO:tensorflow:loss = 906.439, step = 9901 (0.882 sec)\n",
      "INFO:tensorflow:global_step/sec: 111.635\n",
      "INFO:tensorflow:loss = 867.712, step = 10001 (0.896 sec)\n",
      "INFO:tensorflow:global_step/sec: 114.465\n",
      "INFO:tensorflow:loss = 900.318, step = 10101 (0.874 sec)\n",
      "INFO:tensorflow:global_step/sec: 110.502\n",
      "INFO:tensorflow:loss = 900.498, step = 10201 (0.905 sec)\n",
      "INFO:tensorflow:global_step/sec: 113.559\n",
      "INFO:tensorflow:loss = 913.472, step = 10301 (0.881 sec)\n",
      "INFO:tensorflow:global_step/sec: 120.373\n",
      "INFO:tensorflow:loss = 902.687, step = 10401 (0.831 sec)\n",
      "INFO:tensorflow:global_step/sec: 120.763\n",
      "INFO:tensorflow:loss = 906.786, step = 10501 (0.828 sec)\n",
      "INFO:tensorflow:global_step/sec: 121.663\n",
      "INFO:tensorflow:loss = 931.175, step = 10601 (0.822 sec)\n",
      "INFO:tensorflow:global_step/sec: 121.908\n",
      "INFO:tensorflow:loss = 873.307, step = 10701 (0.820 sec)\n",
      "INFO:tensorflow:global_step/sec: 116.961\n",
      "INFO:tensorflow:loss = 880.018, step = 10801 (0.855 sec)\n",
      "INFO:tensorflow:global_step/sec: 117.9\n",
      "INFO:tensorflow:loss = 867.469, step = 10901 (0.848 sec)\n",
      "INFO:tensorflow:global_step/sec: 113.831\n",
      "INFO:tensorflow:loss = 886.64, step = 11001 (0.878 sec)\n",
      "INFO:tensorflow:global_step/sec: 116.626\n",
      "INFO:tensorflow:loss = 889.46, step = 11101 (0.857 sec)\n",
      "INFO:tensorflow:global_step/sec: 117.936\n",
      "INFO:tensorflow:loss = 899.69, step = 11201 (0.848 sec)\n",
      "INFO:tensorflow:global_step/sec: 118.151\n",
      "INFO:tensorflow:loss = 887.494, step = 11301 (0.846 sec)\n",
      "INFO:tensorflow:global_step/sec: 121.2\n",
      "INFO:tensorflow:loss = 896.246, step = 11401 (0.825 sec)\n",
      "INFO:tensorflow:global_step/sec: 117.223\n",
      "INFO:tensorflow:loss = 918.732, step = 11501 (0.853 sec)\n",
      "INFO:tensorflow:global_step/sec: 116.441\n",
      "INFO:tensorflow:loss = 895.292, step = 11601 (0.859 sec)\n",
      "INFO:tensorflow:global_step/sec: 114.814\n",
      "INFO:tensorflow:loss = 919.429, step = 11701 (0.871 sec)\n",
      "INFO:tensorflow:global_step/sec: 117.642\n",
      "INFO:tensorflow:loss = 925.362, step = 11801 (0.850 sec)\n",
      "INFO:tensorflow:global_step/sec: 114.753\n",
      "INFO:tensorflow:loss = 908.342, step = 11901 (0.871 sec)\n",
      "INFO:tensorflow:global_step/sec: 115.943\n",
      "INFO:tensorflow:loss = 883.635, step = 12001 (0.862 sec)\n",
      "INFO:tensorflow:global_step/sec: 115.124\n",
      "INFO:tensorflow:loss = 876.349, step = 12101 (0.869 sec)\n",
      "INFO:tensorflow:global_step/sec: 113.029\n",
      "INFO:tensorflow:loss = 935.161, step = 12201 (0.884 sec)\n",
      "INFO:tensorflow:global_step/sec: 115.538\n",
      "INFO:tensorflow:loss = 900.895, step = 12301 (0.866 sec)\n",
      "INFO:tensorflow:global_step/sec: 115.743\n",
      "INFO:tensorflow:loss = 879.461, step = 12401 (0.864 sec)\n",
      "INFO:tensorflow:global_step/sec: 115.394\n",
      "INFO:tensorflow:loss = 900.001, step = 12501 (0.867 sec)\n",
      "INFO:tensorflow:global_step/sec: 115.389\n",
      "INFO:tensorflow:loss = 888.624, step = 12601 (0.867 sec)\n",
      "INFO:tensorflow:global_step/sec: 114.713\n",
      "INFO:tensorflow:loss = 916.88, step = 12701 (0.872 sec)\n",
      "INFO:tensorflow:global_step/sec: 114.988\n",
      "INFO:tensorflow:loss = 888.339, step = 12801 (0.870 sec)\n",
      "INFO:tensorflow:global_step/sec: 112.348\n",
      "INFO:tensorflow:loss = 923.673, step = 12901 (0.891 sec)\n",
      "INFO:tensorflow:global_step/sec: 113.969\n",
      "INFO:tensorflow:loss = 885.87, step = 13001 (0.877 sec)\n",
      "INFO:tensorflow:global_step/sec: 115.089\n",
      "INFO:tensorflow:loss = 910.193, step = 13101 (0.869 sec)\n",
      "INFO:tensorflow:global_step/sec: 112.4\n",
      "INFO:tensorflow:loss = 904.295, step = 13201 (0.890 sec)\n",
      "INFO:tensorflow:global_step/sec: 112.711\n",
      "INFO:tensorflow:loss = 891.359, step = 13301 (0.887 sec)\n",
      "INFO:tensorflow:global_step/sec: 115.972\n",
      "INFO:tensorflow:loss = 912.2, step = 13401 (0.862 sec)\n",
      "INFO:tensorflow:global_step/sec: 115.561\n",
      "INFO:tensorflow:loss = 910.331, step = 13501 (0.865 sec)\n",
      "INFO:tensorflow:global_step/sec: 116.364\n",
      "INFO:tensorflow:loss = 887.689, step = 13601 (0.859 sec)\n",
      "INFO:tensorflow:global_step/sec: 115.678\n",
      "INFO:tensorflow:loss = 896.11, step = 13701 (0.864 sec)\n",
      "INFO:tensorflow:global_step/sec: 115.01\n",
      "INFO:tensorflow:loss = 931.138, step = 13801 (0.870 sec)\n",
      "INFO:tensorflow:global_step/sec: 117.64\n",
      "INFO:tensorflow:loss = 878.177, step = 13901 (0.850 sec)\n",
      "INFO:tensorflow:global_step/sec: 110.52\n",
      "INFO:tensorflow:loss = 897.706, step = 14001 (0.905 sec)\n",
      "INFO:tensorflow:global_step/sec: 111.815\n",
      "INFO:tensorflow:loss = 901.12, step = 14101 (0.894 sec)\n",
      "INFO:tensorflow:global_step/sec: 121.632\n",
      "INFO:tensorflow:loss = 889.412, step = 14201 (0.822 sec)\n",
      "INFO:tensorflow:global_step/sec: 121.84\n",
      "INFO:tensorflow:loss = 882.411, step = 14301 (0.821 sec)\n",
      "INFO:tensorflow:global_step/sec: 107.344\n",
      "INFO:tensorflow:loss = 887.024, step = 14401 (0.931 sec)\n",
      "INFO:tensorflow:global_step/sec: 110.298\n",
      "INFO:tensorflow:loss = 902.716, step = 14501 (0.907 sec)\n",
      "INFO:tensorflow:global_step/sec: 113.296\n",
      "INFO:tensorflow:loss = 882.503, step = 14601 (0.882 sec)\n",
      "INFO:tensorflow:global_step/sec: 112.286\n",
      "INFO:tensorflow:loss = 914.677, step = 14701 (0.891 sec)\n",
      "INFO:tensorflow:global_step/sec: 111.85\n",
      "INFO:tensorflow:loss = 934.129, step = 14801 (0.894 sec)\n",
      "INFO:tensorflow:global_step/sec: 119.439\n",
      "INFO:tensorflow:loss = 903.14, step = 14901 (0.837 sec)\n",
      "INFO:tensorflow:global_step/sec: 113.544\n",
      "INFO:tensorflow:loss = 904.761, step = 15001 (0.881 sec)\n",
      "INFO:tensorflow:global_step/sec: 114.465\n",
      "INFO:tensorflow:loss = 900.836, step = 15101 (0.874 sec)\n",
      "INFO:tensorflow:global_step/sec: 118.474\n",
      "INFO:tensorflow:loss = 863.439, step = 15201 (0.844 sec)\n",
      "INFO:tensorflow:global_step/sec: 115.93\n",
      "INFO:tensorflow:loss = 905.231, step = 15301 (0.862 sec)\n",
      "INFO:tensorflow:global_step/sec: 116.984\n",
      "INFO:tensorflow:loss = 906.664, step = 15401 (0.855 sec)\n",
      "INFO:tensorflow:global_step/sec: 107.664\n",
      "INFO:tensorflow:loss = 882.005, step = 15501 (0.929 sec)\n",
      "INFO:tensorflow:global_step/sec: 106.769\n",
      "INFO:tensorflow:loss = 920.18, step = 15601 (0.937 sec)\n",
      "INFO:tensorflow:global_step/sec: 117.786\n",
      "INFO:tensorflow:loss = 919.887, step = 15701 (0.849 sec)\n",
      "INFO:tensorflow:global_step/sec: 116.1\n",
      "INFO:tensorflow:loss = 929.008, step = 15801 (0.861 sec)\n",
      "INFO:tensorflow:global_step/sec: 117.794\n",
      "INFO:tensorflow:loss = 917.933, step = 15901 (0.849 sec)\n",
      "INFO:tensorflow:global_step/sec: 117.117\n",
      "INFO:tensorflow:loss = 906.541, step = 16001 (0.854 sec)\n",
      "INFO:tensorflow:global_step/sec: 116.982\n",
      "INFO:tensorflow:loss = 928.442, step = 16101 (0.855 sec)\n",
      "INFO:tensorflow:global_step/sec: 120.197\n",
      "INFO:tensorflow:loss = 863.78, step = 16201 (0.832 sec)\n",
      "INFO:tensorflow:global_step/sec: 121.771\n",
      "INFO:tensorflow:loss = 880.514, step = 16301 (0.821 sec)\n",
      "INFO:tensorflow:global_step/sec: 119.086\n",
      "INFO:tensorflow:loss = 897.474, step = 16401 (0.840 sec)\n",
      "INFO:tensorflow:global_step/sec: 120.557\n",
      "INFO:tensorflow:loss = 938.382, step = 16501 (0.829 sec)\n",
      "INFO:tensorflow:global_step/sec: 119.46\n",
      "INFO:tensorflow:loss = 867.429, step = 16601 (0.837 sec)\n",
      "INFO:tensorflow:global_step/sec: 121.374\n",
      "INFO:tensorflow:loss = 903.601, step = 16701 (0.824 sec)\n",
      "INFO:tensorflow:global_step/sec: 116.605\n",
      "INFO:tensorflow:loss = 870.437, step = 16801 (0.858 sec)\n"
     ]
    },
    {
     "name": "stdout",
     "output_type": "stream",
     "text": [
      "INFO:tensorflow:global_step/sec: 117.206\n",
      "INFO:tensorflow:loss = 924.587, step = 16901 (0.853 sec)\n",
      "INFO:tensorflow:global_step/sec: 115.185\n",
      "INFO:tensorflow:loss = 914.056, step = 17001 (0.868 sec)\n",
      "INFO:tensorflow:global_step/sec: 114.564\n",
      "INFO:tensorflow:loss = 902.476, step = 17101 (0.873 sec)\n",
      "INFO:tensorflow:global_step/sec: 112.238\n",
      "INFO:tensorflow:loss = 878.751, step = 17201 (0.891 sec)\n",
      "INFO:tensorflow:global_step/sec: 116.56\n",
      "INFO:tensorflow:loss = 914.633, step = 17301 (0.858 sec)\n",
      "INFO:tensorflow:global_step/sec: 101.29\n",
      "INFO:tensorflow:loss = 894.347, step = 17401 (0.987 sec)\n",
      "INFO:tensorflow:global_step/sec: 110.623\n",
      "INFO:tensorflow:loss = 891.526, step = 17501 (0.904 sec)\n",
      "INFO:tensorflow:global_step/sec: 98.9836\n",
      "INFO:tensorflow:loss = 881.823, step = 17601 (1.010 sec)\n",
      "INFO:tensorflow:global_step/sec: 112.096\n",
      "INFO:tensorflow:loss = 913.646, step = 17701 (0.892 sec)\n",
      "INFO:tensorflow:global_step/sec: 112.741\n",
      "INFO:tensorflow:loss = 870.049, step = 17801 (0.887 sec)\n",
      "INFO:tensorflow:global_step/sec: 110.88\n",
      "INFO:tensorflow:loss = 868.239, step = 17901 (0.902 sec)\n",
      "INFO:tensorflow:global_step/sec: 115.284\n",
      "INFO:tensorflow:loss = 878.151, step = 18001 (0.868 sec)\n",
      "INFO:tensorflow:global_step/sec: 105.943\n",
      "INFO:tensorflow:loss = 925.886, step = 18101 (0.944 sec)\n",
      "INFO:tensorflow:global_step/sec: 110.53\n",
      "INFO:tensorflow:loss = 881.235, step = 18201 (0.905 sec)\n",
      "INFO:tensorflow:global_step/sec: 113.072\n",
      "INFO:tensorflow:loss = 902.726, step = 18301 (0.884 sec)\n",
      "INFO:tensorflow:global_step/sec: 114.263\n",
      "INFO:tensorflow:loss = 906.57, step = 18401 (0.875 sec)\n",
      "INFO:tensorflow:global_step/sec: 115.077\n",
      "INFO:tensorflow:loss = 896.577, step = 18501 (0.869 sec)\n",
      "INFO:tensorflow:global_step/sec: 115.685\n",
      "INFO:tensorflow:loss = 914.855, step = 18601 (0.864 sec)\n",
      "INFO:tensorflow:global_step/sec: 114.862\n",
      "INFO:tensorflow:loss = 871.745, step = 18701 (0.871 sec)\n",
      "INFO:tensorflow:global_step/sec: 115.133\n",
      "INFO:tensorflow:loss = 896.146, step = 18801 (0.869 sec)\n",
      "INFO:tensorflow:global_step/sec: 114.976\n",
      "INFO:tensorflow:loss = 889.309, step = 18901 (0.870 sec)\n",
      "INFO:tensorflow:global_step/sec: 110.919\n",
      "INFO:tensorflow:loss = 881.545, step = 19001 (0.901 sec)\n",
      "INFO:tensorflow:global_step/sec: 114.207\n",
      "INFO:tensorflow:loss = 917.392, step = 19101 (0.876 sec)\n",
      "INFO:tensorflow:global_step/sec: 111.986\n",
      "INFO:tensorflow:loss = 892.773, step = 19201 (0.893 sec)\n",
      "INFO:tensorflow:global_step/sec: 117.363\n",
      "INFO:tensorflow:loss = 878.561, step = 19301 (0.852 sec)\n",
      "INFO:tensorflow:global_step/sec: 110.343\n",
      "INFO:tensorflow:loss = 921.717, step = 19401 (0.906 sec)\n",
      "INFO:tensorflow:global_step/sec: 110.666\n",
      "INFO:tensorflow:loss = 895.961, step = 19501 (0.903 sec)\n",
      "INFO:tensorflow:global_step/sec: 108.142\n",
      "INFO:tensorflow:loss = 902.959, step = 19601 (0.925 sec)\n",
      "INFO:tensorflow:global_step/sec: 113.971\n",
      "INFO:tensorflow:loss = 871.162, step = 19701 (0.878 sec)\n",
      "INFO:tensorflow:global_step/sec: 113.155\n",
      "INFO:tensorflow:loss = 890.429, step = 19801 (0.884 sec)\n",
      "INFO:tensorflow:global_step/sec: 112.772\n",
      "INFO:tensorflow:loss = 912.248, step = 19901 (0.887 sec)\n",
      "INFO:tensorflow:Saving checkpoints for 20000 into /tmp/tmp2percy6l/model.ckpt.\n",
      "INFO:tensorflow:Loss for final step: 900.018.\n"
     ]
    },
    {
     "data": {
      "text/plain": [
       "<tensorflow.python.estimator.canned.dnn.DNNClassifier at 0x7fd7b2388f60>"
      ]
     },
     "execution_count": 19,
     "metadata": {},
     "output_type": "execute_result"
    }
   ],
   "source": [
    "classifier.train(input_fn=train_input_fn, steps=20000)"
   ]
  },
  {
   "cell_type": "code",
   "execution_count": 20,
   "metadata": {
    "colab": {
     "autoexec": {
      "startup": false,
      "wait_interval": 0
     },
     "base_uri": "https://localhost:8080/",
     "height": 85,
     "output_extras": [
      {
       "item_id": 3
      }
     ]
    },
    "colab_type": "code",
    "executionInfo": {
     "elapsed": 14491,
     "status": "ok",
     "timestamp": 1516792193273,
     "user": {
      "displayName": "SNADIG CP",
      "photoUrl": "https://lh3.googleusercontent.com/a/default-user=s128",
      "userId": "111186448378047970223"
     },
     "user_tz": -330
    },
    "id": "CaclJfMD8QuC",
    "outputId": "89d287b1-4d36-43bb-ffda-ca26e3dec0c4"
   },
   "outputs": [
    {
     "name": "stdout",
     "output_type": "stream",
     "text": [
      "INFO:tensorflow:Starting evaluation at 2018-01-31-07:53:57\n",
      "INFO:tensorflow:Restoring parameters from /tmp/tmp2percy6l/model.ckpt-20000\n",
      "INFO:tensorflow:Finished evaluation at 2018-01-31-07:54:08\n",
      "INFO:tensorflow:Saving dict for global step 20000: accuracy = 0.052846, average_loss = 7.01939, global_step = 20000, loss = 898.463\n"
     ]
    }
   ],
   "source": [
    "accuracy_score = classifier.evaluate(input_fn=test_input_fn)[\"accuracy\"]"
   ]
  },
  {
   "cell_type": "code",
   "execution_count": 21,
   "metadata": {
    "colab": {
     "autoexec": {
      "startup": false,
      "wait_interval": 0
     },
     "base_uri": "https://localhost:8080/",
     "height": 68,
     "output_extras": [
      {
       "item_id": 1
      }
     ]
    },
    "colab_type": "code",
    "executionInfo": {
     "elapsed": 1287,
     "status": "ok",
     "timestamp": 1516792194605,
     "user": {
      "displayName": "SNADIG CP",
      "photoUrl": "https://lh3.googleusercontent.com/a/default-user=s128",
      "userId": "111186448378047970223"
     },
     "user_tz": -330
    },
    "id": "OGl-dPTu8S2i",
    "outputId": "94753479-ec54-460a-f9aa-b9bf406fd033"
   },
   "outputs": [
    {
     "name": "stdout",
     "output_type": "stream",
     "text": [
      "\n",
      "Test Accuracy: 0.052846\n",
      "\n"
     ]
    }
   ],
   "source": [
    "print(\"\\nTest Accuracy: {0:f}\\n\".format(accuracy_score))"
   ]
  }
 ],
 "metadata": {
  "accelerator": "GPU",
  "colab": {
   "collapsed_sections": [],
   "default_view": {},
   "name": "DNN2.ipynb",
   "provenance": [],
   "version": "0.3.2",
   "views": {}
  },
  "kernelspec": {
   "display_name": "Python 3",
   "language": "python",
   "name": "python3"
  },
  "language_info": {
   "codemirror_mode": {
    "name": "ipython",
    "version": 3
   },
   "file_extension": ".py",
   "mimetype": "text/x-python",
   "name": "python",
   "nbconvert_exporter": "python",
   "pygments_lexer": "ipython3",
   "version": "3.6.3"
  }
 },
 "nbformat": 4,
 "nbformat_minor": 1
}
