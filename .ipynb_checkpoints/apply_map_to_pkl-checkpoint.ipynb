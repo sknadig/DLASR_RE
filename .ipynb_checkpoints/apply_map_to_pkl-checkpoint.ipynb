{
 "cells": [
  {
   "cell_type": "code",
   "execution_count": 11,
   "metadata": {
    "collapsed": true
   },
   "outputs": [],
   "source": [
    "import pandas as pd\n",
    "import numpy as np\n",
    "import re"
   ]
  },
  {
   "cell_type": "code",
   "execution_count": 12,
   "metadata": {
    "collapsed": true
   },
   "outputs": [],
   "source": [
    "phone_map = pd.read_pickle(\"phone_map_1944_to_48.pkl\")\n",
    "timit_data = pd.read_pickle(\"train_with_labels.pkl\")"
   ]
  },
  {
   "cell_type": "code",
   "execution_count": 13,
   "metadata": {
    "collapsed": true
   },
   "outputs": [],
   "source": [
    "timit_labels = timit_data[\"label\"]"
   ]
  },
  {
   "cell_type": "code",
   "execution_count": 14,
   "metadata": {
    "collapsed": true
   },
   "outputs": [],
   "source": [
    "mapped_labels = phone_map[\"map\"]"
   ]
  },
  {
   "cell_type": "code",
   "execution_count": 15,
   "metadata": {
    "collapsed": true
   },
   "outputs": [],
   "source": [
    "# for i in range(len(timit_labels)):\n",
    "#     for j in range(len(mapped_labels)):\n",
    "#         if(timit_labels[i] in mapped_labels[j]):\n",
    "#             timit_labels[i] = j"
   ]
  },
  {
   "cell_type": "code",
   "execution_count": 16,
   "metadata": {},
   "outputs": [
    {
     "name": "stdout",
     "output_type": "stream",
     "text": [
      "index = 0 updated_labels = 1\n",
      "index = 10000 updated_labels = 10001\n",
      "index = 20000 updated_labels = 20001\n",
      "index = 30000 updated_labels = 30001\n",
      "index = 40000 updated_labels = 40001\n",
      "index = 50000 updated_labels = 50001\n",
      "index = 60000 updated_labels = 60001\n",
      "index = 70000 updated_labels = 70001\n",
      "index = 80000 updated_labels = 80001\n",
      "index = 90000 updated_labels = 90001\n",
      "index = 100000 updated_labels = 100001\n",
      "index = 110000 updated_labels = 110001\n",
      "index = 120000 updated_labels = 120001\n",
      "index = 130000 updated_labels = 130001\n",
      "index = 140000 updated_labels = 140001\n",
      "index = 150000 updated_labels = 150001\n",
      "index = 160000 updated_labels = 160001\n",
      "index = 170000 updated_labels = 170001\n",
      "index = 180000 updated_labels = 180001\n",
      "index = 190000 updated_labels = 190001\n",
      "index = 200000 updated_labels = 200001\n",
      "index = 210000 updated_labels = 210001\n",
      "index = 220000 updated_labels = 220001\n",
      "index = 230000 updated_labels = 230001\n",
      "index = 240000 updated_labels = 240001\n",
      "index = 250000 updated_labels = 250001\n",
      "index = 260000 updated_labels = 260001\n",
      "index = 270000 updated_labels = 270001\n",
      "index = 280000 updated_labels = 280001\n",
      "index = 290000 updated_labels = 290001\n",
      "index = 300000 updated_labels = 300001\n",
      "index = 310000 updated_labels = 310001\n",
      "index = 320000 updated_labels = 320001\n",
      "index = 330000 updated_labels = 330001\n",
      "index = 340000 updated_labels = 340001\n",
      "index = 350000 updated_labels = 350001\n",
      "index = 360000 updated_labels = 360001\n",
      "index = 370000 updated_labels = 370001\n",
      "index = 380000 updated_labels = 380001\n",
      "index = 390000 updated_labels = 390001\n",
      "index = 400000 updated_labels = 400001\n",
      "index = 410000 updated_labels = 410001\n",
      "index = 420000 updated_labels = 420001\n",
      "index = 430000 updated_labels = 430001\n",
      "index = 440000 updated_labels = 440001\n",
      "index = 450000 updated_labels = 450001\n",
      "index = 460000 updated_labels = 460001\n",
      "index = 470000 updated_labels = 470001\n",
      "index = 480000 updated_labels = 480001\n",
      "index = 490000 updated_labels = 490001\n",
      "index = 500000 updated_labels = 500001\n",
      "index = 510000 updated_labels = 510001\n",
      "index = 520000 updated_labels = 520001\n",
      "index = 530000 updated_labels = 530001\n",
      "index = 540000 updated_labels = 540001\n",
      "index = 550000 updated_labels = 550001\n",
      "index = 560000 updated_labels = 560001\n",
      "index = 570000 updated_labels = 570001\n",
      "index = 580000 updated_labels = 580001\n",
      "index = 590000 updated_labels = 590001\n",
      "index = 600000 updated_labels = 600001\n",
      "index = 610000 updated_labels = 610001\n",
      "index = 620000 updated_labels = 620001\n",
      "index = 630000 updated_labels = 630001\n",
      "index = 640000 updated_labels = 640001\n",
      "index = 650000 updated_labels = 650001\n",
      "index = 660000 updated_labels = 660001\n",
      "index = 670000 updated_labels = 670001\n",
      "index = 680000 updated_labels = 680001\n",
      "index = 690000 updated_labels = 690001\n",
      "index = 700000 updated_labels = 700001\n",
      "index = 710000 updated_labels = 710001\n",
      "index = 720000 updated_labels = 720001\n",
      "index = 730000 updated_labels = 730001\n",
      "index = 740000 updated_labels = 740001\n",
      "index = 750000 updated_labels = 750001\n",
      "index = 760000 updated_labels = 760001\n",
      "index = 770000 updated_labels = 770001\n",
      "index = 780000 updated_labels = 780001\n",
      "index = 790000 updated_labels = 790001\n",
      "index = 800000 updated_labels = 800001\n",
      "index = 810000 updated_labels = 810001\n",
      "index = 820000 updated_labels = 820001\n",
      "index = 830000 updated_labels = 830001\n",
      "index = 840000 updated_labels = 840001\n",
      "index = 850000 updated_labels = 850001\n",
      "index = 860000 updated_labels = 860001\n",
      "index = 870000 updated_labels = 870001\n",
      "index = 880000 updated_labels = 880001\n",
      "index = 890000 updated_labels = 890001\n",
      "index = 900000 updated_labels = 900001\n",
      "index = 910000 updated_labels = 910001\n",
      "index = 920000 updated_labels = 920001\n",
      "index = 930000 updated_labels = 930001\n",
      "index = 940000 updated_labels = 940001\n",
      "index = 950000 updated_labels = 950001\n",
      "index = 960000 updated_labels = 960001\n",
      "index = 970000 updated_labels = 970001\n",
      "index = 980000 updated_labels = 980001\n",
      "index = 990000 updated_labels = 990001\n",
      "index = 1000000 updated_labels = 1000001\n",
      "index = 1010000 updated_labels = 1010001\n",
      "index = 1020000 updated_labels = 1020001\n",
      "index = 1030000 updated_labels = 1030001\n",
      "index = 1040000 updated_labels = 1040001\n",
      "index = 1050000 updated_labels = 1050001\n",
      "index = 1060000 updated_labels = 1060001\n",
      "index = 1070000 updated_labels = 1070001\n",
      "index = 1080000 updated_labels = 1080001\n",
      "index = 1090000 updated_labels = 1090001\n",
      "index = 1100000 updated_labels = 1100001\n",
      "index = 1110000 updated_labels = 1110001\n",
      "index = 1120000 updated_labels = 1120001\n"
     ]
    }
   ],
   "source": [
    "new_labels = []\n",
    "index = 0\n",
    "updated_labels = 0\n",
    "for label in timit_labels:\n",
    "    for j in range(0,len(mapped_labels)):\n",
    "        if(label in mapped_labels[j]):\n",
    "            new_labels.append(j) \n",
    "            updated_labels+=1\n",
    "    if(index%10000 == 0):\n",
    "        print(\"index = {0} updated_labels = {1}\".format(index,updated_labels))\n",
    "    index+=1"
   ]
  },
  {
   "cell_type": "code",
   "execution_count": 17,
   "metadata": {},
   "outputs": [
    {
     "data": {
      "text/plain": [
       "1124823"
      ]
     },
     "execution_count": 17,
     "metadata": {},
     "output_type": "execute_result"
    }
   ],
   "source": [
    "len(new_labels)"
   ]
  },
  {
   "cell_type": "code",
   "execution_count": 18,
   "metadata": {
    "collapsed": true
   },
   "outputs": [],
   "source": [
    "timit_data[\"mapped_labels\"] = new_labels"
   ]
  },
  {
   "cell_type": "code",
   "execution_count": 19,
   "metadata": {
    "collapsed": true
   },
   "outputs": [],
   "source": [
    "timit_data.to_pickle(\"train_with_mapped_labels.pkl\")"
   ]
  }
 ],
 "metadata": {
  "kernelspec": {
   "display_name": "Python 3",
   "language": "python",
   "name": "python3"
  },
  "language_info": {
   "codemirror_mode": {
    "name": "ipython",
    "version": 3
   },
   "file_extension": ".py",
   "mimetype": "text/x-python",
   "name": "python",
   "nbconvert_exporter": "python",
   "pygments_lexer": "ipython3",
   "version": "3.6.3"
  }
 },
 "nbformat": 4,
 "nbformat_minor": 2
}
